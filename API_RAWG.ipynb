{
 "cells": [
  {
   "cell_type": "code",
   "execution_count": 85,
   "metadata": {},
   "outputs": [],
   "source": [
    "import os\n",
    "from dotenv import load_dotenv\n",
    "import requests\n",
    "\n",
    "# Tu clave API de RAWG\n",
    "\n",
    "api_key = os.getenv(\"api_key\")\n",
    "\n",
    "searched_game = 'The Witcher 3'\n",
    "\n",
    "# URL de la API de RAWG\n",
    "base_url = 'https://api.rawg.io/api'\n",
    "\n",
    "# Parámetros de la solicitud (ejemplo: buscar juegos con la palabra \"cyberpunk\")\n",
    "params = {\n",
    "    'key': api_key,\n",
    "    'search': searched_game,\n",
    "    'search_exact' : False\n",
    "}\n",
    "\n",
    "# Hacer la solicitud a la API\n",
    "response = requests.get(f'{base_url}/games', params=params)\n",
    "\n",
    "# Verificar si la solicitud fue exitosa\n",
    "if response.status_code == 200:\n",
    "    # Obtener los datos en formato JSON\n",
    "    data = response.json()\n",
    "\n",
    "    # Imprimir los primeros 5 resultados\n",
    "\n"
   ]
  },
  {
   "cell_type": "code",
   "execution_count": 86,
   "metadata": {},
   "outputs": [],
   "source": [
    "genres_dict = {}\n",
    "\n",
    "for x in data[\"results\"]:\n",
    "    \n",
    "    key = x[\"name\"]\n",
    "    values = []\n",
    "    if x[\"genres\"]:\n",
    "        for y in x[\"genres\"]:\n",
    "            values.append(y[\"name\"])\n",
    "    else:\n",
    "        genres_dict[key] = None\n",
    "    \n",
    "    genres_dict[key] = values\n"
   ]
  },
  {
   "cell_type": "code",
   "execution_count": 87,
   "metadata": {},
   "outputs": [
    {
     "data": {
      "text/plain": [
       "{'The Witcher 3 REDkit': [],\n",
       " 'Witcher 3 City Environment': [],\n",
       " 'The Witcher 3 | Interactive Bestiary': [],\n",
       " 'The Witcher 3: Wild Hunt': ['Action', 'RPG'],\n",
       " 'Witcher 3 Inspired Main Menu': [],\n",
       " 'Witcher 3 Fan Fiction Game': [],\n",
       " 'The Witcher 3: Wild Hunt – Hearts of Stone': ['RPG'],\n",
       " 'The Witcher 3 Wild Hunt - Complete Edition': ['Adventure', 'RPG'],\n",
       " 'The Witcher 3: Wild Hunt – Blood and Wine': ['RPG']}"
      ]
     },
     "execution_count": 87,
     "metadata": {},
     "output_type": "execute_result"
    }
   ],
   "source": [
    "genres_dict\n"
   ]
  },
  {
   "cell_type": "code",
   "execution_count": 88,
   "metadata": {},
   "outputs": [
    {
     "name": "stdout",
     "output_type": "stream",
     "text": [
      "The Witcher 3 REDkit \n",
      "Witcher 3 City Environment \n",
      "The Witcher 3 | Interactive Bestiary \n",
      "The Witcher 3: Wild Hunt : Action RPG \n",
      "Witcher 3 Inspired Main Menu \n",
      "Witcher 3 Fan Fiction Game \n",
      "The Witcher 3: Wild Hunt – Hearts of Stone : RPG \n",
      "The Witcher 3 Wild Hunt - Complete Edition : Adventure RPG \n",
      "The Witcher 3: Wild Hunt – Blood and Wine : RPG \n"
     ]
    }
   ],
   "source": [
    "genres_dict = {}\n",
    "\n",
    "for x in data[\"results\"]:\n",
    "\n",
    "    print(x[\"name\"], end=\" \")\n",
    "\n",
    "    if x[\"genres\"]:\n",
    "        print(\":\", end=\" \")\n",
    "        for y in x[\"genres\"]:\n",
    "            print(y[\"name\"], end=\" \")\n",
    "    print()\n"
   ]
  },
  {
   "cell_type": "code",
   "execution_count": 89,
   "metadata": {},
   "outputs": [
    {
     "data": {
      "text/plain": [
       "[]"
      ]
     },
     "execution_count": 89,
     "metadata": {},
     "output_type": "execute_result"
    }
   ],
   "source": [
    "data[\"results\"][0][\"genres\"]"
   ]
  }
 ],
 "metadata": {
  "kernelspec": {
   "display_name": "base",
   "language": "python",
   "name": "python3"
  },
  "language_info": {
   "codemirror_mode": {
    "name": "ipython",
    "version": 3
   },
   "file_extension": ".py",
   "mimetype": "text/x-python",
   "name": "python",
   "nbconvert_exporter": "python",
   "pygments_lexer": "ipython3",
   "version": "3.12.4"
  }
 },
 "nbformat": 4,
 "nbformat_minor": 2
}
