{
 "cells": [
  {
   "cell_type": "code",
   "execution_count": 66,
   "metadata": {},
   "outputs": [],
   "source": [
    "import os\n",
    "from dotenv import load_dotenv\n",
    "import requests\n",
    "\n",
    "# Tu clave API de RAWG\n",
    "\n",
    "api_key = os.getenv(\"api_key\")\n",
    "\n",
    "searched_game = 'BioShock Infinite'\n",
    "\n",
    "# URL de la API de RAWG\n",
    "base_url = 'https://api.rawg.io/api'\n",
    "\n",
    "# Parámetros de la solicitud (ejemplo: buscar juegos con la palabra \"cyberpunk\")\n",
    "params = {\n",
    "    'key': api_key,\n",
    "    'search': searched_game,        # Si no pongo nada me da los primeros X juegos más populares\n",
    "    'search_exact' : True\n",
    "}\n",
    "\n",
    "# Hacer la solicitud a la API\n",
    "response = requests.get(f'{base_url}/games', params=params)\n",
    "\n",
    "# Verificar si la solicitud fue exitosa\n",
    "if response.status_code == 200:\n",
    "    # Obtener los datos en formato JSON\n",
    "    data = response.json()\n",
    "else:\n",
    "    print(response.status_code)\n",
    "\n",
    "    # Imprimir los primeros 5 resultados\n",
    "\n"
   ]
  },
  {
   "cell_type": "code",
   "execution_count": 67,
   "metadata": {},
   "outputs": [],
   "source": [
    "genres_dict = {}\n",
    "\n",
    "for x in data[\"results\"]:\n",
    "    \n",
    "    key = x[\"name\"]\n",
    "    values = []\n",
    "    if x[\"genres\"]:\n",
    "        for y in x[\"genres\"]:\n",
    "            values.append(y[\"name\"])\n",
    "    else:\n",
    "        genres_dict[key] = None\n",
    "    \n",
    "    genres_dict[key] = values\n"
   ]
  },
  {
   "cell_type": "code",
   "execution_count": 68,
   "metadata": {},
   "outputs": [
    {
     "data": {
      "text/plain": [
       "'BioShock Infinite'"
      ]
     },
     "execution_count": 68,
     "metadata": {},
     "output_type": "execute_result"
    }
   ],
   "source": [
    "data[\"results\"][0][\"name\"]"
   ]
  },
  {
   "cell_type": "code",
   "execution_count": 69,
   "metadata": {},
   "outputs": [
    {
     "data": {
      "text/plain": [
       "['Shooter', 'Action']"
      ]
     },
     "execution_count": 69,
     "metadata": {},
     "output_type": "execute_result"
    }
   ],
   "source": [
    "genres_list = []\n",
    "\n",
    "game = 'BioShock Infinite'\n",
    "\n",
    "for x in data[\"results\"]:\n",
    "    values = []\n",
    "    for y in x[\"genres\"]:\n",
    "        if x[\"name\"] == game:\n",
    "            genres_list.append(y[\"name\"])\n",
    " \n",
    "    \n",
    "\n",
    "genres_list\n"
   ]
  },
  {
   "cell_type": "code",
   "execution_count": 70,
   "metadata": {},
   "outputs": [],
   "source": [
    "game_title_list = []\n",
    "genres_list = []\n",
    "\n",
    "for x in data[\"results\"]:\n",
    "    \n",
    "    game_title_list.append(x[\"name\"])\n",
    "    values = []\n",
    "\n",
    "    for y in x[\"genres\"]:\n",
    "            values.append(y[\"name\"])\n",
    "            \n",
    "    genres_list.append(values)\n",
    "    \n",
    "\n"
   ]
  },
  {
   "cell_type": "code",
   "execution_count": 71,
   "metadata": {},
   "outputs": [
    {
     "data": {
      "text/plain": [
       "['BioShock Infinite',\n",
       " 'Bioshock Infinite Demade',\n",
       " 'Bioshock Infinite: Clash in the Clouds',\n",
       " 'BioShock Infinite: Burial at Sea - Episode Two',\n",
       " 'BioShock Infinite: Burial at Sea - Episode One']"
      ]
     },
     "execution_count": 71,
     "metadata": {},
     "output_type": "execute_result"
    }
   ],
   "source": [
    "game_title_list"
   ]
  },
  {
   "cell_type": "code",
   "execution_count": 72,
   "metadata": {},
   "outputs": [
    {
     "data": {
      "text/plain": [
       "[['Shooter', 'Action'],\n",
       " ['Platformer'],\n",
       " ['Shooter', 'Action'],\n",
       " ['Shooter', 'Action'],\n",
       " ['Shooter', 'Action']]"
      ]
     },
     "execution_count": 72,
     "metadata": {},
     "output_type": "execute_result"
    }
   ],
   "source": [
    "genres_list"
   ]
  },
  {
   "cell_type": "code",
   "execution_count": 73,
   "metadata": {},
   "outputs": [
    {
     "data": {
      "text/plain": [
       "[('BioShock Infinite', ['Shooter', 'Action']),\n",
       " ('Bioshock Infinite Demade', ['Platformer']),\n",
       " ('Bioshock Infinite: Clash in the Clouds', ['Shooter', 'Action']),\n",
       " ('BioShock Infinite: Burial at Sea - Episode Two', ['Shooter', 'Action']),\n",
       " ('BioShock Infinite: Burial at Sea - Episode One', ['Shooter', 'Action'])]"
      ]
     },
     "execution_count": 73,
     "metadata": {},
     "output_type": "execute_result"
    }
   ],
   "source": [
    "mix = list(zip(game_title_list, genres_list))\n",
    "\n",
    "mix"
   ]
  },
  {
   "cell_type": "code",
   "execution_count": 74,
   "metadata": {},
   "outputs": [
    {
     "data": {
      "text/html": [
       "<div>\n",
       "<style scoped>\n",
       "    .dataframe tbody tr th:only-of-type {\n",
       "        vertical-align: middle;\n",
       "    }\n",
       "\n",
       "    .dataframe tbody tr th {\n",
       "        vertical-align: top;\n",
       "    }\n",
       "\n",
       "    .dataframe thead th {\n",
       "        text-align: right;\n",
       "    }\n",
       "</style>\n",
       "<table border=\"1\" class=\"dataframe\">\n",
       "  <thead>\n",
       "    <tr style=\"text-align: right;\">\n",
       "      <th></th>\n",
       "      <th>title</th>\n",
       "      <th>genres</th>\n",
       "    </tr>\n",
       "  </thead>\n",
       "  <tbody>\n",
       "    <tr>\n",
       "      <th>0</th>\n",
       "      <td>BioShock Infinite</td>\n",
       "      <td>[Shooter, Action]</td>\n",
       "    </tr>\n",
       "    <tr>\n",
       "      <th>1</th>\n",
       "      <td>Bioshock Infinite Demade</td>\n",
       "      <td>[Platformer]</td>\n",
       "    </tr>\n",
       "    <tr>\n",
       "      <th>2</th>\n",
       "      <td>Bioshock Infinite: Clash in the Clouds</td>\n",
       "      <td>[Shooter, Action]</td>\n",
       "    </tr>\n",
       "    <tr>\n",
       "      <th>3</th>\n",
       "      <td>BioShock Infinite: Burial at Sea - Episode Two</td>\n",
       "      <td>[Shooter, Action]</td>\n",
       "    </tr>\n",
       "    <tr>\n",
       "      <th>4</th>\n",
       "      <td>BioShock Infinite: Burial at Sea - Episode One</td>\n",
       "      <td>[Shooter, Action]</td>\n",
       "    </tr>\n",
       "  </tbody>\n",
       "</table>\n",
       "</div>"
      ],
      "text/plain": [
       "                                            title             genres\n",
       "0                               BioShock Infinite  [Shooter, Action]\n",
       "1                        Bioshock Infinite Demade       [Platformer]\n",
       "2          Bioshock Infinite: Clash in the Clouds  [Shooter, Action]\n",
       "3  BioShock Infinite: Burial at Sea - Episode Two  [Shooter, Action]\n",
       "4  BioShock Infinite: Burial at Sea - Episode One  [Shooter, Action]"
      ]
     },
     "execution_count": 74,
     "metadata": {},
     "output_type": "execute_result"
    }
   ],
   "source": [
    "import pandas as pd\n",
    "\n",
    "df = pd.DataFrame(mix, columns=['title', 'genres'])\n",
    "\n",
    "df"
   ]
  },
  {
   "cell_type": "code",
   "execution_count": null,
   "metadata": {},
   "outputs": [],
   "source": []
  }
 ],
 "metadata": {
  "kernelspec": {
   "display_name": "base",
   "language": "python",
   "name": "python3"
  },
  "language_info": {
   "codemirror_mode": {
    "name": "ipython",
    "version": 3
   },
   "file_extension": ".py",
   "mimetype": "text/x-python",
   "name": "python",
   "nbconvert_exporter": "python",
   "pygments_lexer": "ipython3",
   "version": "3.12.4"
  }
 },
 "nbformat": 4,
 "nbformat_minor": 2
}
