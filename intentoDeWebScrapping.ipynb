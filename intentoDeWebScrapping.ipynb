{
 "cells": [
  {
   "cell_type": "code",
   "execution_count": 4,
   "metadata": {},
   "outputs": [],
   "source": [
    "import requests\n",
    "from bs4 import BeautifulSoup\n",
    "import pandas as pd\n",
    "\n",
    "\n",
    "def scrapper_steamdb():\n",
    "\n",
    "    headers = {\n",
    "        'User-Agent': 'Mozilla/5.0 (Windows NT 10.0; Win64; x64) AppleWebKit/537.36 (KHTML, like Gecko) Chrome/58.0.3029.110 Safari/537.3',\n",
    "        'Accept-Language': 'en-US,en;q=0.9',\n",
    "        'Accept-Encoding': 'gzip, deflate, br',\n",
    "        'Accept': 'text/html,application/xhtml+xml,application/xml;q=0.9,image/webp,image/apng,*/*;q=0.8',\n",
    "        'Connection': 'keep-alive',\n",
    "        'Upgrade-Insecure-Requests': '1',\n",
    "        'Referer': 'https://www.google.com'\n",
    "    }\n",
    "\n",
    "    url = \"https://steamdb.info/charts/\"\n",
    "\n",
    "    response = requests.get(url, headers=headers)\n",
    "        \n",
    "    if response.status_code != 200:\n",
    "        print(f\"Error: Received response code {response.status_code}\")\n",
    "        return pd.DataFrame()\n",
    "        \n",
    "    soup = BeautifulSoup(response.content, 'html.parser')\n",
    "\n",
    "    # Imprimir una parte del HTML para verificar la estructura\n",
    "    print(soup.prettify()[:1000])  # Muestra los primeros 1000 caracteres del HTML\n",
    "        \n",
    "    # Lista para almacenar los datos de cada título\n",
    "    titles = []\n",
    "        \n",
    "    # Encontrar todos los contenedores de títulos\n",
    "    #containers = soup.find_all('table', class_='table-products table-hover text-left dataTable')\n",
    "    containers = soup.find_all('tr', class_='app')\n",
    "\n",
    "    if not containers:\n",
    "        print(\"No se encontraron contenedores de títulos.\")\n",
    "        return pd.DataFrame()\n",
    "\n",
    "    for container in containers:\n",
    "        # Extraer el título\n",
    "        title_tag = container.find('td').find('a')         # Esto lo se yendo a la web y haciendo click derecho en uno de los títulos e inspeccionar, ahí se ve que hay un h3 con la clase ipc-title__text\n",
    "        if title_tag:\n",
    "            title = title_tag.get_text(strip=True)      # strip=True elimina espacios en blanco a los lados\n",
    "            titles.append(title)\n",
    "        \n",
    "    # Convertir la lista de títulos a un DataFrame de pandas para una mejor visualización\n",
    "    df = pd.DataFrame(titles, columns=['title'])\n",
    "    return df \n"
   ]
  },
  {
   "cell_type": "code",
   "execution_count": 5,
   "metadata": {},
   "outputs": [
    {
     "name": "stdout",
     "output_type": "stream",
     "text": [
      "Error: Received response code 403\n"
     ]
    },
    {
     "data": {
      "text/html": [
       "<div>\n",
       "<style scoped>\n",
       "    .dataframe tbody tr th:only-of-type {\n",
       "        vertical-align: middle;\n",
       "    }\n",
       "\n",
       "    .dataframe tbody tr th {\n",
       "        vertical-align: top;\n",
       "    }\n",
       "\n",
       "    .dataframe thead th {\n",
       "        text-align: right;\n",
       "    }\n",
       "</style>\n",
       "<table border=\"1\" class=\"dataframe\">\n",
       "  <thead>\n",
       "    <tr style=\"text-align: right;\">\n",
       "      <th></th>\n",
       "    </tr>\n",
       "  </thead>\n",
       "  <tbody>\n",
       "  </tbody>\n",
       "</table>\n",
       "</div>"
      ],
      "text/plain": [
       "Empty DataFrame\n",
       "Columns: []\n",
       "Index: []"
      ]
     },
     "execution_count": 5,
     "metadata": {},
     "output_type": "execute_result"
    }
   ],
   "source": [
    "x = scrapper_steamdb()\n",
    "\n",
    "x"
   ]
  },
  {
   "cell_type": "code",
   "execution_count": null,
   "metadata": {},
   "outputs": [],
   "source": []
  }
 ],
 "metadata": {
  "kernelspec": {
   "display_name": "base",
   "language": "python",
   "name": "python3"
  },
  "language_info": {
   "codemirror_mode": {
    "name": "ipython",
    "version": 3
   },
   "file_extension": ".py",
   "mimetype": "text/x-python",
   "name": "python",
   "nbconvert_exporter": "python",
   "pygments_lexer": "ipython3",
   "version": "3.12.4"
  }
 },
 "nbformat": 4,
 "nbformat_minor": 2
}
